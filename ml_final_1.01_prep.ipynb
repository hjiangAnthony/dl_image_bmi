{
 "cells": [
  {
   "cell_type": "markdown",
   "metadata": {},
   "source": [
    "# MSCA ML Final Project: Face-to-BMI\n",
    "# Part 1: Preparations"
   ]
  },
  {
   "cell_type": "markdown",
   "metadata": {
    "id": "xK2j-u-kLuID"
   },
   "source": [
    "Deliverables:\n",
    "\n",
    "1-You must create a simple web API to predict a user's BMI in real-time. You can also use webcam input. The goal is to use one of the pre-trained image models (e.g. VGG Face), fine-tune with the provided data, and deploy via jupyter notebook, streamlit, flask or any other simple restful api's.\n",
    "\n",
    "2-10 pages of the write-up about your implementation.\n",
    "\n",
    "3-10 mins presentation or live demo in the final lecture.\n",
    "\n",
    "Our goal is to beat the performance metrics provided in the paper."
   ]
  },
  {
   "cell_type": "code",
   "execution_count": null,
   "metadata": {
    "colab": {
     "base_uri": "https://localhost:8080/"
    },
    "id": "llKxwaWIVPAi",
    "outputId": "4765790c-8752-4ef3-e835-557f2a9b7f98"
   },
   "outputs": [],
   "source": [
    "''' #colab\n",
    "import os\n",
    "# Load the Drive helper and mount\n",
    "from google.colab import drive\n",
    "# This will prompt for authorization.\n",
    "drive.mount('/content/drive/')\n",
    "path_gdrive = '/content/drive/MyDrive/Colab Datasets/ML/BMI'\n",
    "os.chdir(path_gdrive)\n",
    "print(os.getcwd())'''"
   ]
  },
  {
   "cell_type": "code",
   "execution_count": 7,
   "metadata": {
    "tags": []
   },
   "outputs": [
    {
     "name": "stdout",
     "output_type": "stream",
     "text": [
      "/home/jupyter/data/ml/BMI\n"
     ]
    }
   ],
   "source": [
    "import os\n",
    "\n",
    "# Google Bucket\n",
    "bucket_path = 'gs://msca-sp23-bucket/ml_data'\n",
    "file = 'BMI-20230313T174553Z-001.zip'\n",
    "runtime_path = '/home/jupyter/data/ml/BMI'\n",
    "\n",
    "os.chdir(runtime_path)\n",
    "print(os.getcwd())"
   ]
  },
  {
   "cell_type": "code",
   "execution_count": 8,
   "metadata": {
    "id": "GriKxF34LpE_",
    "tags": []
   },
   "outputs": [
    {
     "name": "stdout",
     "output_type": "stream",
     "text": [
      "INFO: Pandarallel will run on 8 workers.\n",
      "INFO: Pandarallel will use Memory file system to transfer data between the main process and workers.\n"
     ]
    }
   ],
   "source": [
    "import os\n",
    "import pandas as pd"
   ]
  },
  {
   "cell_type": "code",
   "execution_count": 9,
   "metadata": {
    "id": "-hz4938yYCqi",
    "tags": []
   },
   "outputs": [],
   "source": [
    "pd.set_option('display.max_rows', 100)\n",
    "pd.set_option('display.max_columns', None)\n",
    "pd.set_option('display.max_colwidth', 500)"
   ]
  },
  {
   "cell_type": "code",
   "execution_count": 10,
   "metadata": {
    "id": "Lqa7nWVpXkOp",
    "tags": []
   },
   "outputs": [],
   "source": [
    "# read csv file\n",
    "data_path = '/home/jupyter/data/ml/BMI/data.csv'\n",
    "bmi = pd.read_csv(data_path, index_col=0)"
   ]
  },
  {
   "cell_type": "code",
   "execution_count": 11,
   "metadata": {
    "colab": {
     "base_uri": "https://localhost:8080/",
     "height": 206
    },
    "id": "j1aqGF6MXmph",
    "outputId": "a6de7f25-4b11-4d6a-d734-6a65a282cc7f",
    "tags": []
   },
   "outputs": [
    {
     "data": {
      "text/html": [
       "<div>\n",
       "<style scoped>\n",
       "    .dataframe tbody tr th:only-of-type {\n",
       "        vertical-align: middle;\n",
       "    }\n",
       "\n",
       "    .dataframe tbody tr th {\n",
       "        vertical-align: top;\n",
       "    }\n",
       "\n",
       "    .dataframe thead th {\n",
       "        text-align: right;\n",
       "    }\n",
       "</style>\n",
       "<table border=\"1\" class=\"dataframe\">\n",
       "  <thead>\n",
       "    <tr style=\"text-align: right;\">\n",
       "      <th></th>\n",
       "      <th>bmi</th>\n",
       "      <th>gender</th>\n",
       "      <th>is_training</th>\n",
       "      <th>name</th>\n",
       "    </tr>\n",
       "  </thead>\n",
       "  <tbody>\n",
       "    <tr>\n",
       "      <th>0</th>\n",
       "      <td>34.207396</td>\n",
       "      <td>Male</td>\n",
       "      <td>1</td>\n",
       "      <td>img_0.bmp</td>\n",
       "    </tr>\n",
       "    <tr>\n",
       "      <th>1</th>\n",
       "      <td>26.453720</td>\n",
       "      <td>Male</td>\n",
       "      <td>1</td>\n",
       "      <td>img_1.bmp</td>\n",
       "    </tr>\n",
       "    <tr>\n",
       "      <th>2</th>\n",
       "      <td>34.967561</td>\n",
       "      <td>Female</td>\n",
       "      <td>1</td>\n",
       "      <td>img_2.bmp</td>\n",
       "    </tr>\n",
       "    <tr>\n",
       "      <th>3</th>\n",
       "      <td>22.044766</td>\n",
       "      <td>Female</td>\n",
       "      <td>1</td>\n",
       "      <td>img_3.bmp</td>\n",
       "    </tr>\n",
       "    <tr>\n",
       "      <th>4</th>\n",
       "      <td>37.758789</td>\n",
       "      <td>Female</td>\n",
       "      <td>1</td>\n",
       "      <td>img_4.bmp</td>\n",
       "    </tr>\n",
       "  </tbody>\n",
       "</table>\n",
       "</div>"
      ],
      "text/plain": [
       "         bmi  gender  is_training       name\n",
       "0  34.207396    Male            1  img_0.bmp\n",
       "1  26.453720    Male            1  img_1.bmp\n",
       "2  34.967561  Female            1  img_2.bmp\n",
       "3  22.044766  Female            1  img_3.bmp\n",
       "4  37.758789  Female            1  img_4.bmp"
      ]
     },
     "execution_count": 11,
     "metadata": {},
     "output_type": "execute_result"
    }
   ],
   "source": [
    "# check csv\n",
    "bmi.head()"
   ]
  },
  {
   "cell_type": "code",
   "execution_count": 12,
   "metadata": {
    "colab": {
     "base_uri": "https://localhost:8080/"
    },
    "id": "aaw9XAaLJi3H",
    "outputId": "3238813a-6ea7-482a-ace8-692b7dfa5480",
    "tags": []
   },
   "outputs": [
    {
     "data": {
      "text/plain": [
       "is_training\n",
       "1    3368\n",
       "0     838\n",
       "Name: count, dtype: int64"
      ]
     },
     "execution_count": 12,
     "metadata": {},
     "output_type": "execute_result"
    }
   ],
   "source": [
    "bmi.is_training.value_counts()"
   ]
  },
  {
   "cell_type": "code",
   "execution_count": 13,
   "metadata": {
    "colab": {
     "base_uri": "https://localhost:8080/"
    },
    "id": "Su8RjFV6I75e",
    "outputId": "0e154f6a-1d25-4826-c201-46f0318fe544",
    "tags": []
   },
   "outputs": [
    {
     "data": {
      "text/plain": [
       "imgae_type\n",
       "bmp    4206\n",
       "Name: count, dtype: int64"
      ]
     },
     "execution_count": 13,
     "metadata": {},
     "output_type": "execute_result"
    }
   ],
   "source": [
    "bmi['imgae_type'] = bmi['name'].str.extract(r'\\.(\\w+)$')\n",
    "bmi['imgae_type'].value_counts()"
   ]
  },
  {
   "cell_type": "code",
   "execution_count": 17,
   "metadata": {
    "colab": {
     "base_uri": "https://localhost:8080/"
    },
    "id": "rdSBp4n3Y21p",
    "outputId": "9920507d-a78d-43e0-f924-4b3243127f74",
    "tags": []
   },
   "outputs": [
    {
     "name": "stdout",
     "output_type": "stream",
     "text": [
      "Total 3963 photos \n"
     ]
    }
   ],
   "source": [
    "# code reference to https://github.com/abhaymise/Face-to-height-weight-BMI-estimation-/blob/master/BMI%20prediction.ipynb\n",
    "\n",
    "profile_df = bmi.copy()\n",
    "\n",
    "# map image to obvervation in bmi table\n",
    "data_folder = \"/home/jupyter/data/ml/BMI/Images\"\n",
    "\n",
    "from glob import glob\n",
    "\n",
    "all_files = glob(data_folder+\"/*\")\n",
    "all_imgs = sorted([img for img in all_files if \".bmp\" in img])\n",
    "print(\"Total {} photos \".format(len(all_imgs)))"
   ]
  },
  {
   "cell_type": "code",
   "execution_count": 18,
   "metadata": {
    "colab": {
     "base_uri": "https://localhost:8080/",
     "height": 35
    },
    "id": "feBHah_7KU_S",
    "outputId": "3258d0e6-1002-46c7-a820-6280da7ec2d1",
    "tags": []
   },
   "outputs": [],
   "source": [
    "def get_index_of_digit(string):\n",
    "    import re\n",
    "    digits = re.findall('\\d+', string)\n",
    "    return digits[0]"
   ]
  },
  {
   "cell_type": "code",
   "execution_count": 23,
   "metadata": {
    "id": "P5vpsNxO1W2E",
    "tags": []
   },
   "outputs": [],
   "source": [
    "from pathlib import Path as p\n",
    "\n",
    "id_path = [(get_index_of_digit(images),images) for  images in all_imgs]\n",
    "image_df = pd.DataFrame(id_path,columns=['id','path'])"
   ]
  },
  {
   "cell_type": "code",
   "execution_count": 26,
   "metadata": {
    "tags": []
   },
   "outputs": [
    {
     "data": {
      "text/html": [
       "<div>\n",
       "<style scoped>\n",
       "    .dataframe tbody tr th:only-of-type {\n",
       "        vertical-align: middle;\n",
       "    }\n",
       "\n",
       "    .dataframe tbody tr th {\n",
       "        vertical-align: top;\n",
       "    }\n",
       "\n",
       "    .dataframe thead th {\n",
       "        text-align: right;\n",
       "    }\n",
       "</style>\n",
       "<table border=\"1\" class=\"dataframe\">\n",
       "  <thead>\n",
       "    <tr style=\"text-align: right;\">\n",
       "      <th></th>\n",
       "      <th>id</th>\n",
       "      <th>path</th>\n",
       "    </tr>\n",
       "  </thead>\n",
       "  <tbody>\n",
       "    <tr>\n",
       "      <th>0</th>\n",
       "      <td>0</td>\n",
       "      <td>/home/jupyter/data/ml/BMI/Images/img_0.bmp</td>\n",
       "    </tr>\n",
       "    <tr>\n",
       "      <th>1</th>\n",
       "      <td>1</td>\n",
       "      <td>/home/jupyter/data/ml/BMI/Images/img_1.bmp</td>\n",
       "    </tr>\n",
       "    <tr>\n",
       "      <th>1067</th>\n",
       "      <td>2</td>\n",
       "      <td>/home/jupyter/data/ml/BMI/Images/img_2.bmp</td>\n",
       "    </tr>\n",
       "    <tr>\n",
       "      <th>2117</th>\n",
       "      <td>3</td>\n",
       "      <td>/home/jupyter/data/ml/BMI/Images/img_3.bmp</td>\n",
       "    </tr>\n",
       "    <tr>\n",
       "      <th>3531</th>\n",
       "      <td>6</td>\n",
       "      <td>/home/jupyter/data/ml/BMI/Images/img_6.bmp</td>\n",
       "    </tr>\n",
       "  </tbody>\n",
       "</table>\n",
       "</div>"
      ],
      "text/plain": [
       "      id                                        path\n",
       "0      0  /home/jupyter/data/ml/BMI/Images/img_0.bmp\n",
       "1      1  /home/jupyter/data/ml/BMI/Images/img_1.bmp\n",
       "1067   2  /home/jupyter/data/ml/BMI/Images/img_2.bmp\n",
       "2117   3  /home/jupyter/data/ml/BMI/Images/img_3.bmp\n",
       "3531   6  /home/jupyter/data/ml/BMI/Images/img_6.bmp"
      ]
     },
     "execution_count": 26,
     "metadata": {},
     "output_type": "execute_result"
    }
   ],
   "source": [
    "# reset iddtype\n",
    "image_df['id'] = image_df['id'].astype(int)\n",
    "image_df = image_df.sort_values(by='id')\n",
    "image_df.head()"
   ]
  },
  {
   "cell_type": "code",
   "execution_count": 22,
   "metadata": {
    "colab": {
     "base_uri": "https://localhost:8080/"
    },
    "id": "K5NoCKTYIgtE",
    "outputId": "51e5856f-bfe5-423e-db6b-033e3c36aded",
    "tags": []
   },
   "outputs": [
    {
     "data": {
      "text/plain": [
       "3963"
      ]
     },
     "execution_count": 22,
     "metadata": {},
     "output_type": "execute_result"
    }
   ],
   "source": [
    "len(id_path)"
   ]
  },
  {
   "cell_type": "code",
   "execution_count": 28,
   "metadata": {
    "id": "hzcbVzZGIgVz",
    "tags": []
   },
   "outputs": [
    {
     "data": {
      "text/html": [
       "<div>\n",
       "<style scoped>\n",
       "    .dataframe tbody tr th:only-of-type {\n",
       "        vertical-align: middle;\n",
       "    }\n",
       "\n",
       "    .dataframe tbody tr th {\n",
       "        vertical-align: top;\n",
       "    }\n",
       "\n",
       "    .dataframe thead th {\n",
       "        text-align: right;\n",
       "    }\n",
       "</style>\n",
       "<table border=\"1\" class=\"dataframe\">\n",
       "  <thead>\n",
       "    <tr style=\"text-align: right;\">\n",
       "      <th></th>\n",
       "      <th>bmi</th>\n",
       "      <th>gender</th>\n",
       "      <th>is_training</th>\n",
       "      <th>name</th>\n",
       "      <th>imgae_type</th>\n",
       "      <th>id</th>\n",
       "      <th>path</th>\n",
       "    </tr>\n",
       "  </thead>\n",
       "  <tbody>\n",
       "    <tr>\n",
       "      <th>0</th>\n",
       "      <td>34.207396</td>\n",
       "      <td>Male</td>\n",
       "      <td>1</td>\n",
       "      <td>img_0.bmp</td>\n",
       "      <td>bmp</td>\n",
       "      <td>0</td>\n",
       "      <td>/home/jupyter/data/ml/BMI/Images/img_0.bmp</td>\n",
       "    </tr>\n",
       "    <tr>\n",
       "      <th>1</th>\n",
       "      <td>26.453720</td>\n",
       "      <td>Male</td>\n",
       "      <td>1</td>\n",
       "      <td>img_1.bmp</td>\n",
       "      <td>bmp</td>\n",
       "      <td>1</td>\n",
       "      <td>/home/jupyter/data/ml/BMI/Images/img_1.bmp</td>\n",
       "    </tr>\n",
       "    <tr>\n",
       "      <th>2</th>\n",
       "      <td>34.967561</td>\n",
       "      <td>Female</td>\n",
       "      <td>1</td>\n",
       "      <td>img_2.bmp</td>\n",
       "      <td>bmp</td>\n",
       "      <td>2</td>\n",
       "      <td>/home/jupyter/data/ml/BMI/Images/img_2.bmp</td>\n",
       "    </tr>\n",
       "    <tr>\n",
       "      <th>3</th>\n",
       "      <td>22.044766</td>\n",
       "      <td>Female</td>\n",
       "      <td>1</td>\n",
       "      <td>img_3.bmp</td>\n",
       "      <td>bmp</td>\n",
       "      <td>3</td>\n",
       "      <td>/home/jupyter/data/ml/BMI/Images/img_3.bmp</td>\n",
       "    </tr>\n",
       "    <tr>\n",
       "      <th>4</th>\n",
       "      <td>25.845588</td>\n",
       "      <td>Female</td>\n",
       "      <td>1</td>\n",
       "      <td>img_6.bmp</td>\n",
       "      <td>bmp</td>\n",
       "      <td>6</td>\n",
       "      <td>/home/jupyter/data/ml/BMI/Images/img_6.bmp</td>\n",
       "    </tr>\n",
       "  </tbody>\n",
       "</table>\n",
       "</div>"
      ],
      "text/plain": [
       "         bmi  gender  is_training       name imgae_type  id   \n",
       "0  34.207396    Male            1  img_0.bmp        bmp   0  \\\n",
       "1  26.453720    Male            1  img_1.bmp        bmp   1   \n",
       "2  34.967561  Female            1  img_2.bmp        bmp   2   \n",
       "3  22.044766  Female            1  img_3.bmp        bmp   3   \n",
       "4  25.845588  Female            1  img_6.bmp        bmp   6   \n",
       "\n",
       "                                         path  \n",
       "0  /home/jupyter/data/ml/BMI/Images/img_0.bmp  \n",
       "1  /home/jupyter/data/ml/BMI/Images/img_1.bmp  \n",
       "2  /home/jupyter/data/ml/BMI/Images/img_2.bmp  \n",
       "3  /home/jupyter/data/ml/BMI/Images/img_3.bmp  \n",
       "4  /home/jupyter/data/ml/BMI/Images/img_6.bmp  "
      ]
     },
     "execution_count": 28,
     "metadata": {},
     "output_type": "execute_result"
    }
   ],
   "source": [
    "# extract id from bmi\n",
    "bmi['id'] = bmi['name'].str.extract(r'(\\d+)')\n",
    "bmi['id'] = bmi['id'].astype(int)\n",
    "\n",
    "# merge bmi and image\n",
    "all_data = pd.merge(bmi, image_df, on='id', how='inner')\n",
    "all_data.head()"
   ]
  },
  {
   "cell_type": "code",
   "execution_count": 29,
   "metadata": {
    "id": "HBTD3L_R2fFT",
    "tags": []
   },
   "outputs": [],
   "source": [
    "# export df with file_path\n",
    "all_data.to_csv(runtime_path+'/all_data.csv', index=False)"
   ]
  },
  {
   "cell_type": "code",
   "execution_count": null,
   "metadata": {},
   "outputs": [],
   "source": []
  }
 ],
 "metadata": {
  "colab": {
   "provenance": []
  },
  "kernelspec": {
   "display_name": "nlp",
   "language": "python",
   "name": "nlp"
  },
  "language_info": {
   "codemirror_mode": {
    "name": "ipython",
    "version": 3
   },
   "file_extension": ".py",
   "mimetype": "text/x-python",
   "name": "python",
   "nbconvert_exporter": "python",
   "pygments_lexer": "ipython3",
   "version": "3.10.11"
  }
 },
 "nbformat": 4,
 "nbformat_minor": 4
}
