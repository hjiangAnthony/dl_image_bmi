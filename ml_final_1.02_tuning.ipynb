{
 "cells": [
  {
   "cell_type": "markdown",
   "metadata": {
    "id": "WAEHYIdvwQBf",
    "tags": []
   },
   "source": [
    "# MSCA ML Final Project: Face-to-BMI\n",
    "# Part 2: Image Embedding and Basic VGG"
   ]
  },
  {
   "cell_type": "markdown",
   "metadata": {
    "id": "xK2j-u-kLuID"
   },
   "source": [
    "Deliverables:\n",
    "\n",
    "1-You must create a simple web API to predict a user's BMI in real-time. You can also use webcam input. The goal is to use one of the pre-trained image models (e.g. VGG Face), fine-tune with the provided data, and deploy via jupyter notebook, streamlit, flask or any other simple restful api's.\n",
    "\n",
    "2-10 pages of the write-up about your implementation.\n",
    "\n",
    "3-10 mins presentation or live demo in the final lecture.\n",
    "\n",
    "Our goal is to beat the performance metrics provided in the paper."
   ]
  },
  {
   "cell_type": "markdown",
   "metadata": {
    "tags": []
   },
   "source": [
    "## Set-up"
   ]
  },
  {
   "cell_type": "code",
   "execution_count": null,
   "metadata": {
    "colab": {
     "base_uri": "https://localhost:8080/"
    },
    "executionInfo": {
     "elapsed": 1731,
     "status": "ok",
     "timestamp": 1684182877756,
     "user": {
      "displayName": "Han Jiang",
      "userId": "07380456769307295080"
     },
     "user_tz": 300
    },
    "id": "llKxwaWIVPAi",
    "outputId": "a95efaee-0e97-4e00-ba43-e045c1ea11b6"
   },
   "outputs": [],
   "source": [
    "''' # colab mount\n",
    "import os\n",
    "# Load the Drive helper and mount\n",
    "from google.colab import drive\n",
    "\n",
    "# This will prompt for authorization.\n",
    "drive.mount('/content/drive/')\n",
    "path_gdrive = '/content/drive/MyDrive/Colab Datasets/ML/BMI'\n",
    "os.chdir(path_gdrive)\n",
    "print(os.getcwd())'''"
   ]
  },
  {
   "cell_type": "code",
   "execution_count": 1,
   "metadata": {
    "tags": []
   },
   "outputs": [
    {
     "name": "stdout",
     "output_type": "stream",
     "text": [
      "/home/jupyter/data/ml/BMI\n"
     ]
    }
   ],
   "source": [
    "import os\n",
    "\n",
    "# Google Bucket\n",
    "bucket_path = 'gs://msca-sp23-bucket/ml_data'\n",
    "file = 'BMI-20230313T174553Z-001.zip'\n",
    "runtime_path = '/home/jupyter/data/ml/BMI'\n",
    "\n",
    "os.chdir(runtime_path)\n",
    "print(os.getcwd())"
   ]
  },
  {
   "cell_type": "code",
   "execution_count": 2,
   "metadata": {
    "tags": []
   },
   "outputs": [
    {
     "name": "stdout",
     "output_type": "stream",
     "text": [
      "INFO: Pandarallel will run on 8 workers.\n",
      "INFO: Pandarallel will use Memory file system to transfer data between the main process and workers.\n"
     ]
    }
   ],
   "source": [
    "import sys\n",
    "import os\n",
    "import pandas as pd\n",
    "import numpy as np\n",
    "\n",
    "import re\n",
    "from tqdm import tqdm\n",
    "tqdm.pandas()\n",
    "\n",
    "from pandarallel import pandarallel\n",
    "pandarallel.initialize(progress_bar=True)"
   ]
  },
  {
   "cell_type": "code",
   "execution_count": 3,
   "metadata": {
    "tags": []
   },
   "outputs": [],
   "source": [
    "import matplotlib.pyplot as plt\n",
    "%matplotlib inline\n",
    "\n",
    "pd.set_option('display.max_rows', 100)\n",
    "pd.set_option('display.max_columns', None)\n",
    "pd.set_option('display.max_colwidth', 500)"
   ]
  },
  {
   "cell_type": "code",
   "execution_count": 4,
   "metadata": {
    "id": "Lqa7nWVpXkOp",
    "tags": []
   },
   "outputs": [
    {
     "data": {
      "text/html": [
       "<div>\n",
       "<style scoped>\n",
       "    .dataframe tbody tr th:only-of-type {\n",
       "        vertical-align: middle;\n",
       "    }\n",
       "\n",
       "    .dataframe tbody tr th {\n",
       "        vertical-align: top;\n",
       "    }\n",
       "\n",
       "    .dataframe thead th {\n",
       "        text-align: right;\n",
       "    }\n",
       "</style>\n",
       "<table border=\"1\" class=\"dataframe\">\n",
       "  <thead>\n",
       "    <tr style=\"text-align: right;\">\n",
       "      <th></th>\n",
       "      <th>bmi</th>\n",
       "      <th>gender</th>\n",
       "      <th>is_training</th>\n",
       "      <th>name</th>\n",
       "      <th>imgae_type</th>\n",
       "      <th>id</th>\n",
       "      <th>path</th>\n",
       "    </tr>\n",
       "  </thead>\n",
       "  <tbody>\n",
       "    <tr>\n",
       "      <th>0</th>\n",
       "      <td>34.207396</td>\n",
       "      <td>Male</td>\n",
       "      <td>1</td>\n",
       "      <td>img_0.bmp</td>\n",
       "      <td>bmp</td>\n",
       "      <td>0</td>\n",
       "      <td>/home/jupyter/data/ml/BMI/Images/img_0.bmp</td>\n",
       "    </tr>\n",
       "    <tr>\n",
       "      <th>1</th>\n",
       "      <td>26.453720</td>\n",
       "      <td>Male</td>\n",
       "      <td>1</td>\n",
       "      <td>img_1.bmp</td>\n",
       "      <td>bmp</td>\n",
       "      <td>1</td>\n",
       "      <td>/home/jupyter/data/ml/BMI/Images/img_1.bmp</td>\n",
       "    </tr>\n",
       "    <tr>\n",
       "      <th>2</th>\n",
       "      <td>34.967561</td>\n",
       "      <td>Female</td>\n",
       "      <td>1</td>\n",
       "      <td>img_2.bmp</td>\n",
       "      <td>bmp</td>\n",
       "      <td>2</td>\n",
       "      <td>/home/jupyter/data/ml/BMI/Images/img_2.bmp</td>\n",
       "    </tr>\n",
       "    <tr>\n",
       "      <th>3</th>\n",
       "      <td>22.044766</td>\n",
       "      <td>Female</td>\n",
       "      <td>1</td>\n",
       "      <td>img_3.bmp</td>\n",
       "      <td>bmp</td>\n",
       "      <td>3</td>\n",
       "      <td>/home/jupyter/data/ml/BMI/Images/img_3.bmp</td>\n",
       "    </tr>\n",
       "    <tr>\n",
       "      <th>4</th>\n",
       "      <td>25.845588</td>\n",
       "      <td>Female</td>\n",
       "      <td>1</td>\n",
       "      <td>img_6.bmp</td>\n",
       "      <td>bmp</td>\n",
       "      <td>6</td>\n",
       "      <td>/home/jupyter/data/ml/BMI/Images/img_6.bmp</td>\n",
       "    </tr>\n",
       "  </tbody>\n",
       "</table>\n",
       "</div>"
      ],
      "text/plain": [
       "         bmi  gender  is_training       name imgae_type  id   \n",
       "0  34.207396    Male            1  img_0.bmp        bmp   0  \\\n",
       "1  26.453720    Male            1  img_1.bmp        bmp   1   \n",
       "2  34.967561  Female            1  img_2.bmp        bmp   2   \n",
       "3  22.044766  Female            1  img_3.bmp        bmp   3   \n",
       "4  25.845588  Female            1  img_6.bmp        bmp   6   \n",
       "\n",
       "                                         path  \n",
       "0  /home/jupyter/data/ml/BMI/Images/img_0.bmp  \n",
       "1  /home/jupyter/data/ml/BMI/Images/img_1.bmp  \n",
       "2  /home/jupyter/data/ml/BMI/Images/img_2.bmp  \n",
       "3  /home/jupyter/data/ml/BMI/Images/img_3.bmp  \n",
       "4  /home/jupyter/data/ml/BMI/Images/img_6.bmp  "
      ]
     },
     "execution_count": 4,
     "metadata": {},
     "output_type": "execute_result"
    }
   ],
   "source": [
    "# read csv file\n",
    "bmi = pd.read_csv(runtime_path + '/all_data.csv')\n",
    "bmi.head()"
   ]
  },
  {
   "cell_type": "code",
   "execution_count": 5,
   "metadata": {
    "executionInfo": {
     "elapsed": 3230,
     "status": "ok",
     "timestamp": 1684183086093,
     "user": {
      "displayName": "Han Jiang",
      "userId": "07380456769307295080"
     },
     "user_tz": 300
    },
    "id": "WfR0IxTuHQbV",
    "tags": []
   },
   "outputs": [
    {
     "name": "stderr",
     "output_type": "stream",
     "text": [
      "2023-05-15 23:53:44.695732: I tensorflow/core/platform/cpu_feature_guard.cc:182] This TensorFlow binary is optimized to use available CPU instructions in performance-critical operations.\n",
      "To enable the following instructions: AVX2 FMA, in other operations, rebuild TensorFlow with the appropriate compiler flags.\n",
      "2023-05-15 23:53:45.693129: W tensorflow/compiler/tf2tensorrt/utils/py_utils.cc:38] TF-TRT Warning: Could not find TensorRT\n"
     ]
    }
   ],
   "source": [
    "import tensorflow as tf\n",
    "from tensorflow import keras"
   ]
  },
  {
   "cell_type": "code",
   "execution_count": 6,
   "metadata": {
    "colab": {
     "base_uri": "https://localhost:8080/"
    },
    "executionInfo": {
     "elapsed": 3,
     "status": "ok",
     "timestamp": 1684183111591,
     "user": {
      "displayName": "Han Jiang",
      "userId": "07380456769307295080"
     },
     "user_tz": 300
    },
    "id": "x2ONrBZjImrv",
    "outputId": "4a57fecf-be38-4704-868e-164a48cf8e0f",
    "tags": []
   },
   "outputs": [
    {
     "name": "stdout",
     "output_type": "stream",
     "text": [
      "TensorFlow version: 2.12.0\n",
      "Keras version: 2.12.0\n"
     ]
    }
   ],
   "source": [
    "print(\"TensorFlow version:\", tf.__version__)\n",
    "print(\"Keras version:\", keras.__version__)"
   ]
  },
  {
   "cell_type": "code",
   "execution_count": null,
   "metadata": {
    "colab": {
     "base_uri": "https://localhost:8080/"
    },
    "executionInfo": {
     "elapsed": 5260,
     "status": "ok",
     "timestamp": 1684183157421,
     "user": {
      "displayName": "Han Jiang",
      "userId": "07380456769307295080"
     },
     "user_tz": 300
    },
    "id": "wEa7Fva1I2ds",
    "outputId": "a11a9076-64f0-4332-ebb2-503ec1d9b764"
   },
   "outputs": [],
   "source": [
    "#!pip install keras_vggface"
   ]
  },
  {
   "cell_type": "markdown",
   "metadata": {
    "id": "TLgYq3sDwODL",
    "tags": []
   },
   "source": [
    "### Prepare Keras"
   ]
  },
  {
   "cell_type": "code",
   "execution_count": 2,
   "metadata": {
    "colab": {
     "base_uri": "https://localhost:8080/"
    },
    "executionInfo": {
     "elapsed": 161,
     "status": "ok",
     "timestamp": 1684182432540,
     "user": {
      "displayName": "Han Jiang",
      "userId": "07380456769307295080"
     },
     "user_tz": 300
    },
    "id": "vQ9nBJii6Bo3",
    "outputId": "a3757c0c-51a4-4e80-9932-06115aefd6f6"
   },
   "outputs": [
    {
     "name": "stdout",
     "output_type": "stream",
     "text": [
      "Python 3.10.11\n"
     ]
    }
   ],
   "source": [
    "# !python --version"
   ]
  },
  {
   "cell_type": "code",
   "execution_count": null,
   "metadata": {
    "colab": {
     "base_uri": "https://localhost:8080/"
    },
    "executionInfo": {
     "elapsed": 1559,
     "status": "ok",
     "timestamp": 1684183224116,
     "user": {
      "displayName": "Han Jiang",
      "userId": "07380456769307295080"
     },
     "user_tz": 300
    },
    "id": "LMPvk0m13k-z",
    "outputId": "4481f44f-62c4-42aa-9acf-3f337ce7a0c0",
    "tags": []
   },
   "outputs": [],
   "source": [
    "# # @https://stackoverflow.com/questions/68862735/keras-vggface-no-module-named-keras-engine-topology\n",
    "# ! pip install git+https://github.com/rcmalli/keras-vggface.git\n",
    "# ! pip install keras_applications --no-deps\n",
    "\n",
    "# #filename = \"/usr/local/lib/python3.10/dist-packages/keras_vggface/models.py\"\n",
    "#filename = \"/opt/conda/envs/nlp/lib/python3.10/site-packages/keras_vggface/models.py\"\n",
    "#text = open(filename).read()\n",
    "#open(filename, \"w+\").write(text.replace('keras.engine.topology', 'from keras.utils.layer_utils'))"
   ]
  },
  {
   "cell_type": "markdown",
   "metadata": {
    "id": "ljYslsIVwY_1"
   },
   "source": [
    "## Extact Features\n",
    "\n",
    "1. Read images with Kreas API: https://machinelearningmastery.com/how-to-load-convert-and-save-images-with-the-keras-api/"
   ]
  },
  {
   "cell_type": "code",
   "execution_count": 11,
   "metadata": {
    "tags": []
   },
   "outputs": [],
   "source": [
    "# fixing a bug here: https://github.com/rcmalli/keras-vggface/issues/73"
   ]
  },
  {
   "cell_type": "code",
   "execution_count": 10,
   "metadata": {
    "tags": []
   },
   "outputs": [],
   "source": [
    "import tensorflow as tf\n",
    "from keras_vggface.vggface import VGGFace\n",
    "from keras.models import Model\n",
    "from keras.preprocessing.image import *"
   ]
  },
  {
   "cell_type": "code",
   "execution_count": 12,
   "metadata": {
    "colab": {
     "base_uri": "https://localhost:8080/",
     "height": 206
    },
    "executionInfo": {
     "elapsed": 169,
     "status": "ok",
     "timestamp": 1684182805804,
     "user": {
      "displayName": "Han Jiang",
      "userId": "07380456769307295080"
     },
     "user_tz": 300
    },
    "id": "jnffl-2HwcFA",
    "outputId": "487d50e8-6626-4431-cf15-ee94dbd30635",
    "tags": []
   },
   "outputs": [
    {
     "data": {
      "text/html": [
       "<div>\n",
       "<style scoped>\n",
       "    .dataframe tbody tr th:only-of-type {\n",
       "        vertical-align: middle;\n",
       "    }\n",
       "\n",
       "    .dataframe tbody tr th {\n",
       "        vertical-align: top;\n",
       "    }\n",
       "\n",
       "    .dataframe thead th {\n",
       "        text-align: right;\n",
       "    }\n",
       "</style>\n",
       "<table border=\"1\" class=\"dataframe\">\n",
       "  <thead>\n",
       "    <tr style=\"text-align: right;\">\n",
       "      <th></th>\n",
       "      <th>bmi</th>\n",
       "      <th>gender</th>\n",
       "      <th>is_training</th>\n",
       "      <th>name</th>\n",
       "      <th>imgae_type</th>\n",
       "      <th>id</th>\n",
       "      <th>path</th>\n",
       "    </tr>\n",
       "  </thead>\n",
       "  <tbody>\n",
       "    <tr>\n",
       "      <th>0</th>\n",
       "      <td>34.207396</td>\n",
       "      <td>Male</td>\n",
       "      <td>1</td>\n",
       "      <td>img_0.bmp</td>\n",
       "      <td>bmp</td>\n",
       "      <td>0</td>\n",
       "      <td>/home/jupyter/data/ml/BMI/Images/img_0.bmp</td>\n",
       "    </tr>\n",
       "    <tr>\n",
       "      <th>1</th>\n",
       "      <td>26.453720</td>\n",
       "      <td>Male</td>\n",
       "      <td>1</td>\n",
       "      <td>img_1.bmp</td>\n",
       "      <td>bmp</td>\n",
       "      <td>1</td>\n",
       "      <td>/home/jupyter/data/ml/BMI/Images/img_1.bmp</td>\n",
       "    </tr>\n",
       "    <tr>\n",
       "      <th>2</th>\n",
       "      <td>34.967561</td>\n",
       "      <td>Female</td>\n",
       "      <td>1</td>\n",
       "      <td>img_2.bmp</td>\n",
       "      <td>bmp</td>\n",
       "      <td>2</td>\n",
       "      <td>/home/jupyter/data/ml/BMI/Images/img_2.bmp</td>\n",
       "    </tr>\n",
       "    <tr>\n",
       "      <th>3</th>\n",
       "      <td>22.044766</td>\n",
       "      <td>Female</td>\n",
       "      <td>1</td>\n",
       "      <td>img_3.bmp</td>\n",
       "      <td>bmp</td>\n",
       "      <td>3</td>\n",
       "      <td>/home/jupyter/data/ml/BMI/Images/img_3.bmp</td>\n",
       "    </tr>\n",
       "    <tr>\n",
       "      <th>4</th>\n",
       "      <td>25.845588</td>\n",
       "      <td>Female</td>\n",
       "      <td>1</td>\n",
       "      <td>img_6.bmp</td>\n",
       "      <td>bmp</td>\n",
       "      <td>6</td>\n",
       "      <td>/home/jupyter/data/ml/BMI/Images/img_6.bmp</td>\n",
       "    </tr>\n",
       "  </tbody>\n",
       "</table>\n",
       "</div>"
      ],
      "text/plain": [
       "         bmi  gender  is_training       name imgae_type  id   \n",
       "0  34.207396    Male            1  img_0.bmp        bmp   0  \\\n",
       "1  26.453720    Male            1  img_1.bmp        bmp   1   \n",
       "2  34.967561  Female            1  img_2.bmp        bmp   2   \n",
       "3  22.044766  Female            1  img_3.bmp        bmp   3   \n",
       "4  25.845588  Female            1  img_6.bmp        bmp   6   \n",
       "\n",
       "                                         path  \n",
       "0  /home/jupyter/data/ml/BMI/Images/img_0.bmp  \n",
       "1  /home/jupyter/data/ml/BMI/Images/img_1.bmp  \n",
       "2  /home/jupyter/data/ml/BMI/Images/img_2.bmp  \n",
       "3  /home/jupyter/data/ml/BMI/Images/img_3.bmp  \n",
       "4  /home/jupyter/data/ml/BMI/Images/img_6.bmp  "
      ]
     },
     "execution_count": 12,
     "metadata": {},
     "output_type": "execute_result"
    }
   ],
   "source": [
    "bmi.head()"
   ]
  },
  {
   "cell_type": "code",
   "execution_count": 13,
   "metadata": {
    "executionInfo": {
     "elapsed": 253,
     "status": "ok",
     "timestamp": 1684182808252,
     "user": {
      "displayName": "Han Jiang",
      "userId": "07380456769307295080"
     },
     "user_tz": 300
    },
    "id": "rpyexuX8wcBw",
    "tags": []
   },
   "outputs": [],
   "source": [
    "train = bmi[bmi.is_training == 1]\n",
    "val = bmi[bmi.is_training != 1]"
   ]
  },
  {
   "cell_type": "code",
   "execution_count": 14,
   "metadata": {
    "id": "qbn6LKsMwqVZ",
    "tags": []
   },
   "outputs": [
    {
     "name": "stdout",
     "output_type": "stream",
     "text": [
      "Downloading data from https://github.com/rcmalli/keras-vggface/releases/download/v2.0/rcmalli_vggface_tf_vgg16.h5\n",
      "580070376/580070376 [==============================] - 4s 0us/step\n"
     ]
    }
   ],
   "source": [
    "# Initialize a model for feature extraction\n",
    "vggface = VGGFace()"
   ]
  },
  {
   "cell_type": "code",
   "execution_count": 15,
   "metadata": {
    "executionInfo": {
     "elapsed": 347,
     "status": "ok",
     "timestamp": 1684183495050,
     "user": {
      "displayName": "Han Jiang",
      "userId": "07380456769307295080"
     },
     "user_tz": 300
    },
    "id": "TIlI8Z5TwqTF",
    "tags": []
   },
   "outputs": [],
   "source": [
    "# Match outputs to fc6 features\n",
    "model = Model(inputs=vggface.input, outputs=vggface.get_layer('fc6').output)\n",
    "\n",
    "# Define layer name for feature extraction\n",
    "layer_name = 'fc6'"
   ]
  },
  {
   "cell_type": "code",
   "execution_count": 39,
   "metadata": {
    "executionInfo": {
     "elapsed": 493,
     "status": "ok",
     "timestamp": 1684183780478,
     "user": {
      "displayName": "Han Jiang",
      "userId": "07380456769307295080"
     },
     "user_tz": 300
    },
    "id": "6wce4PSBwqQS",
    "tags": []
   },
   "outputs": [],
   "source": [
    "# example of loading an image with the Keras API\n",
    "# since 2021 tensorflow updated the package and moved model directory\n",
    "from tensorflow.keras.preprocessing.image import *\n",
    "import keras_vggface.utils as utils\n",
    "\n",
    "def extract_features(img_path):\n",
    "    if os.path.exists(img_path):\n",
    "        img = load_img(img_path, target_size=(224, 224))\n",
    "        x = img_to_array(img)\n",
    "        x = np.expand_dims(x, axis=0) # Add one dimension (channel)\n",
    "        x = utils.preprocess_input(x, version=1)\n",
    "        features = model.predict(x)\n",
    "        return features.flatten()\n",
    "    else:\n",
    "        return None"
   ]
  },
  {
   "cell_type": "code",
   "execution_count": 40,
   "metadata": {
    "id": "gE-HUKk5LSme",
    "tags": []
   },
   "outputs": [
    {
     "name": "stdout",
     "output_type": "stream",
     "text": [
      "1/1 [==============================] - 0s 310ms/step\n"
     ]
    },
    {
     "data": {
      "text/plain": [
       "array([ -1.4681633,  -0.5275203, -22.067028 , ..., -17.18492  ,\n",
       "       -11.092118 ,  -0.3551265], dtype=float32)"
      ]
     },
     "execution_count": 40,
     "metadata": {},
     "output_type": "execute_result"
    }
   ],
   "source": [
    "# test = '/home/jupyter/data/ml/BMI/Images/img_0.bmp'\n",
    "# extract_features(test)"
   ]
  },
  {
   "cell_type": "code",
   "execution_count": null,
   "metadata": {},
   "outputs": [],
   "source": []
  },
  {
   "cell_type": "code",
   "execution_count": null,
   "metadata": {},
   "outputs": [],
   "source": []
  },
  {
   "cell_type": "code",
   "execution_count": null,
   "metadata": {},
   "outputs": [],
   "source": []
  },
  {
   "cell_type": "code",
   "execution_count": null,
   "metadata": {},
   "outputs": [],
   "source": []
  },
  {
   "cell_type": "markdown",
   "metadata": {
    "id": "HwxPgof72dIU"
   },
   "source": [
    "Note:\n",
    "\n",
    "1. Transfer Learning. https://medium.com/@leosimmons/estimating-body-mass-index-from-face-images-using-keras-and-transfer-learning-de25e1bc0212"
   ]
  },
  {
   "cell_type": "code",
   "execution_count": null,
   "metadata": {},
   "outputs": [],
   "source": []
  }
 ],
 "metadata": {
  "accelerator": "GPU",
  "colab": {
   "authorship_tag": "ABX9TyNIEs8mpcrNM83IJRLLnMgo",
   "gpuType": "T4",
   "provenance": []
  },
  "gpuClass": "standard",
  "kernelspec": {
   "display_name": "nlp",
   "language": "python",
   "name": "nlp"
  },
  "language_info": {
   "codemirror_mode": {
    "name": "ipython",
    "version": 3
   },
   "file_extension": ".py",
   "mimetype": "text/x-python",
   "name": "python",
   "nbconvert_exporter": "python",
   "pygments_lexer": "ipython3",
   "version": "3.10.11"
  }
 },
 "nbformat": 4,
 "nbformat_minor": 4
}
